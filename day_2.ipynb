{
  "nbformat": 4,
  "nbformat_minor": 0,
  "metadata": {
    "colab": {
      "name": "day 2.ipynb",
      "provenance": [],
      "collapsed_sections": [],
      "authorship_tag": "ABX9TyO1Y1CnxKSStk7Y/ptb+Jxr",
      "include_colab_link": true
    },
    "kernelspec": {
      "name": "python3",
      "display_name": "Python 3"
    },
    "language_info": {
      "name": "python"
    }
  },
  "cells": [
    {
      "cell_type": "markdown",
      "metadata": {
        "id": "view-in-github",
        "colab_type": "text"
      },
      "source": [
        "<a href=\"https://colab.research.google.com/github/savvy-trenty/TTP_Winter_2022/blob/main/day_2.ipynb\" target=\"_parent\"><img src=\"https://colab.research.google.com/assets/colab-badge.svg\" alt=\"Open In Colab\"/></a>"
      ]
    },
    {
      "cell_type": "markdown",
      "source": [
        "##Warmup"
      ],
      "metadata": {
        "id": "pK9MBOglzZpF"
      }
    },
    {
      "cell_type": "code",
      "execution_count": 1,
      "metadata": {
        "colab": {
          "base_uri": "https://localhost:8080/"
        },
        "id": "ZX7tPke9wHXI",
        "outputId": "c913313d-7c47-4871-a15c-dc75e7497918"
      },
      "outputs": [
        {
          "output_type": "stream",
          "name": "stdout",
          "text": [
            "llo\n"
          ]
        }
      ],
      "source": [
        "#1 Slice Syntax\n",
        "#Select a set of characters from \"Hello World\" to print\n",
        "s= \"Hello World\" \n",
        "print(s[2:5])"
      ]
    },
    {
      "cell_type": "code",
      "source": [
        "#2 Print \"Hello World\" in reverse\n",
        "s=\"Hello World\"\n",
        "reversed_s= s[::-1]\n",
        "print(reversed_s)"
      ],
      "metadata": {
        "colab": {
          "base_uri": "https://localhost:8080/"
        },
        "id": "lJ1IynVowvxP",
        "outputId": "7ae749b0-c91d-47dd-e520-c38a76279b0b"
      },
      "execution_count": 2,
      "outputs": [
        {
          "output_type": "stream",
          "name": "stdout",
          "text": [
            "dlroW olleH\n"
          ]
        }
      ]
    },
    {
      "cell_type": "code",
      "source": [
        "#3 Print user input in reverse\n",
        "a= input()\n",
        "print(\"Your input:\"+ a)\n",
        "reversed_a= a[::-1]\n",
        "print(reversed_a)"
      ],
      "metadata": {
        "colab": {
          "base_uri": "https://localhost:8080/"
        },
        "id": "At5DvIWdwvvA",
        "outputId": "5106e193-0725-43cc-809d-0a9e9c478eef"
      },
      "execution_count": 3,
      "outputs": [
        {
          "output_type": "stream",
          "name": "stdout",
          "text": [
            "HERO\n",
            "Your input:HERO\n",
            "OREH\n"
          ]
        }
      ]
    },
    {
      "cell_type": "code",
      "source": [
        "#4 Print user input in a sentence\n",
        "print(\"What is your name?\")\n",
        "a= input()\n",
        "print(\"Your name is \"+ a)"
      ],
      "metadata": {
        "colab": {
          "base_uri": "https://localhost:8080/"
        },
        "id": "HrqFrUAewvsk",
        "outputId": "d421ae14-16ff-4134-c9a0-20277eb64510"
      },
      "execution_count": 4,
      "outputs": [
        {
          "output_type": "stream",
          "name": "stdout",
          "text": [
            "What is your name?\n",
            "Trent\n",
            "Your name is Trent\n"
          ]
        }
      ]
    },
    {
      "cell_type": "code",
      "source": [
        "#5 Using type() function, print out the type of three objects\n",
        "# Find the type of three objects\n",
        "a = ('car', 'apple', 'karate')\n",
        "b =\"Hello World\"\n",
        "c = 69\n",
        "\n",
        "d = type(a)\n",
        "e = type(b)\n",
        "f = type(c)\n",
        "print(d, e , f)"
      ],
      "metadata": {
        "colab": {
          "base_uri": "https://localhost:8080/"
        },
        "id": "KP8uv3bdwvqO",
        "outputId": "a175d80b-c6a4-4547-e4df-7f37e8ddf341"
      },
      "execution_count": 5,
      "outputs": [
        {
          "output_type": "stream",
          "name": "stdout",
          "text": [
            "<class 'tuple'> <class 'str'> <class 'int'>\n"
          ]
        }
      ]
    },
    {
      "cell_type": "code",
      "source": [
        "#6 Add two numbers together\n",
        "print(2+100)"
      ],
      "metadata": {
        "colab": {
          "base_uri": "https://localhost:8080/"
        },
        "id": "qP5aQ1czwvnu",
        "outputId": "a5e0a11b-1f75-49ab-99d5-38ade2a959f1"
      },
      "execution_count": 6,
      "outputs": [
        {
          "output_type": "stream",
          "name": "stdout",
          "text": [
            "102\n"
          ]
        }
      ]
    },
    {
      "cell_type": "code",
      "source": [
        "#7 Find the square root of 5 numbers\n",
        "#numpy.sqrt() method\n",
        "\n",
        "#importing numpy\n",
        "import numpy as np\n",
        "\n",
        "arr= np.sqrt([100,50,30,20,10])\n",
        "print(\"Square-root of the five numbers are : \", arr)"
      ],
      "metadata": {
        "colab": {
          "base_uri": "https://localhost:8080/"
        },
        "id": "VZaPixD-wvlW",
        "outputId": "9938f2d9-7ede-4f60-bcb1-7882154756ae"
      },
      "execution_count": 7,
      "outputs": [
        {
          "output_type": "stream",
          "name": "stdout",
          "text": [
            "Square-root of the five numbers are :  [10.          7.07106781  5.47722558  4.47213595  3.16227766]\n"
          ]
        }
      ]
    },
    {
      "cell_type": "code",
      "source": [
        "#8 Find the whole number of 5 division problems\n",
        "print( 10//2)\n",
        "print( 15//2)\n",
        "print( 60//2)\n",
        "print( 1230//2)\n",
        "print( 75//2)"
      ],
      "metadata": {
        "colab": {
          "base_uri": "https://localhost:8080/"
        },
        "id": "nkd7hgs9wvix",
        "outputId": "3f42021c-7301-4b7b-8fa9-033e211a0145"
      },
      "execution_count": 8,
      "outputs": [
        {
          "output_type": "stream",
          "name": "stdout",
          "text": [
            "5\n",
            "7\n",
            "30\n",
            "615\n",
            "37\n"
          ]
        }
      ]
    },
    {
      "cell_type": "code",
      "source": [
        "#9 Create two lists and combine them\n",
        "item1 = [11,23,45,67]\n",
        "item2 = [1, 2, 3, 4]\n",
        "print(item1 , item2)\n",
        "print(item1 + item2)"
      ],
      "metadata": {
        "colab": {
          "base_uri": "https://localhost:8080/"
        },
        "id": "a5mdCCDqwvgk",
        "outputId": "833bef9b-780d-4e2e-f6a9-f1a27dae4afa"
      },
      "execution_count": 9,
      "outputs": [
        {
          "output_type": "stream",
          "name": "stdout",
          "text": [
            "[11, 23, 45, 67] [1, 2, 3, 4]\n",
            "[11, 23, 45, 67, 1, 2, 3, 4]\n"
          ]
        }
      ]
    },
    {
      "cell_type": "code",
      "source": [
        "#10 Create two arrays and combine them\n",
        "arr1  = [11,23,45,67]\n",
        "arr2 = [1, 2, 3, 4] \n",
        "print(arr1 + arr2)"
      ],
      "metadata": {
        "colab": {
          "base_uri": "https://localhost:8080/"
        },
        "id": "G4GElXB_wveN",
        "outputId": "9518b459-7b51-4f96-d038-d13d85c8cc16"
      },
      "execution_count": 10,
      "outputs": [
        {
          "output_type": "stream",
          "name": "stdout",
          "text": [
            "[11, 23, 45, 67, 1, 2, 3, 4]\n"
          ]
        }
      ]
    },
    {
      "cell_type": "code",
      "source": [
        "#11 Convert 5 objects from one type to another (ex. Int to Float)\n",
        "b =123\n",
        "c = 2j\n",
        "d =1.0\n",
        "\n",
        "a1 = float(b)\n",
        "a2 = int(d)\n",
        "a3 = str(d)\n",
        "\n",
        "print(a1)\n",
        "print(a2)\n",
        "print(a3)"
      ],
      "metadata": {
        "colab": {
          "base_uri": "https://localhost:8080/"
        },
        "id": "3g7gTXyOwvbu",
        "outputId": "bc77d6ed-9980-4b33-f776-b92752f72e01"
      },
      "execution_count": 11,
      "outputs": [
        {
          "output_type": "stream",
          "name": "stdout",
          "text": [
            "123.0\n",
            "1\n",
            "1.0\n"
          ]
        }
      ]
    },
    {
      "cell_type": "code",
      "source": [
        "#12 Convert a lowercase string to an UPPERCASE STRING\n",
        "s = \"hello world\"\n",
        "print(s.upper())"
      ],
      "metadata": {
        "colab": {
          "base_uri": "https://localhost:8080/"
        },
        "id": "GFetJ5pRwvZZ",
        "outputId": "fbc9d037-5ba4-4d09-8f97-836c374aa327"
      },
      "execution_count": 12,
      "outputs": [
        {
          "output_type": "stream",
          "name": "stdout",
          "text": [
            "HELLO WORLD\n"
          ]
        }
      ]
    },
    {
      "cell_type": "code",
      "source": [
        "#13 Print out the word \"Python\", one letter at a time\n",
        "a_string= \"Snake\"\n",
        "\n",
        "for letter in a_string:\n",
        "    print(letter)"
      ],
      "metadata": {
        "colab": {
          "base_uri": "https://localhost:8080/"
        },
        "id": "RSqTOsVdwvXK",
        "outputId": "150d8904-838e-422c-8cc5-66f1561d9a32"
      },
      "execution_count": 13,
      "outputs": [
        {
          "output_type": "stream",
          "name": "stdout",
          "text": [
            "S\n",
            "n\n",
            "a\n",
            "k\n",
            "e\n"
          ]
        }
      ]
    },
    {
      "cell_type": "code",
      "source": [
        "#14 Print an object from a list of objects\n",
        "list(\"Python\")"
      ],
      "metadata": {
        "colab": {
          "base_uri": "https://localhost:8080/"
        },
        "id": "CwZPNbVfwvUm",
        "outputId": "fc80d1ab-1447-4510-f30c-74d4d150bcf3"
      },
      "execution_count": 14,
      "outputs": [
        {
          "output_type": "execute_result",
          "data": {
            "text/plain": [
              "['P', 'y', 't', 'h', 'o', 'n']"
            ]
          },
          "metadata": {},
          "execution_count": 14
        }
      ]
    },
    {
      "cell_type": "code",
      "source": [
        "#15 BONUS!!! Get the version of Python being used\n",
        "import sys\n",
        "print(\"Python version\")\n",
        "print(sys.version)\n",
        "print(\"Version.info.\")\n",
        "print(sys.version_info)"
      ],
      "metadata": {
        "colab": {
          "base_uri": "https://localhost:8080/"
        },
        "id": "yYYusjaozsKF",
        "outputId": "75d91f80-95f7-43e3-82ec-da8ed7585a9d"
      },
      "execution_count": 15,
      "outputs": [
        {
          "output_type": "stream",
          "name": "stdout",
          "text": [
            "Python version\n",
            "3.7.12 (default, Sep 10 2021, 00:21:48) \n",
            "[GCC 7.5.0]\n",
            "Version.info.\n",
            "sys.version_info(major=3, minor=7, micro=12, releaselevel='final', serial=0)\n"
          ]
        }
      ]
    },
    {
      "cell_type": "code",
      "source": [
        ""
      ],
      "metadata": {
        "id": "4bI7kjNizsIC"
      },
      "execution_count": 15,
      "outputs": []
    },
    {
      "cell_type": "code",
      "source": [
        ""
      ],
      "metadata": {
        "id": "2ey6lK5FzsF0"
      },
      "execution_count": 15,
      "outputs": []
    },
    {
      "cell_type": "code",
      "source": [
        ""
      ],
      "metadata": {
        "id": "umEUt_X8zsDd"
      },
      "execution_count": 15,
      "outputs": []
    },
    {
      "cell_type": "code",
      "source": [
        ""
      ],
      "metadata": {
        "id": "i3HzhYFJzsA_"
      },
      "execution_count": 15,
      "outputs": []
    },
    {
      "cell_type": "code",
      "source": [
        ""
      ],
      "metadata": {
        "id": "n7sXRis6zr-r"
      },
      "execution_count": 15,
      "outputs": []
    },
    {
      "cell_type": "code",
      "source": [
        ""
      ],
      "metadata": {
        "id": "P39eMpyKzr8U"
      },
      "execution_count": 15,
      "outputs": []
    },
    {
      "cell_type": "code",
      "source": [
        ""
      ],
      "metadata": {
        "id": "n41Al6SLzr5q"
      },
      "execution_count": 15,
      "outputs": []
    },
    {
      "cell_type": "code",
      "source": [
        ""
      ],
      "metadata": {
        "id": "cWonISkPzr29"
      },
      "execution_count": 15,
      "outputs": []
    },
    {
      "cell_type": "code",
      "source": [
        ""
      ],
      "metadata": {
        "id": "Dh2g6GyQzr0Q"
      },
      "execution_count": 15,
      "outputs": []
    },
    {
      "cell_type": "code",
      "source": [
        ""
      ],
      "metadata": {
        "id": "Y5vB76cCzrxg"
      },
      "execution_count": 15,
      "outputs": []
    },
    {
      "cell_type": "code",
      "source": [
        ""
      ],
      "metadata": {
        "id": "R9RDndYtzru5"
      },
      "execution_count": 15,
      "outputs": []
    },
    {
      "cell_type": "code",
      "source": [
        ""
      ],
      "metadata": {
        "id": "ryVZnBU9zrsQ"
      },
      "execution_count": 15,
      "outputs": []
    },
    {
      "cell_type": "code",
      "source": [
        ""
      ],
      "metadata": {
        "id": "dCKuzFWQzrpb"
      },
      "execution_count": 15,
      "outputs": []
    },
    {
      "cell_type": "code",
      "source": [
        ""
      ],
      "metadata": {
        "id": "QinkidH7zrl9"
      },
      "execution_count": 15,
      "outputs": []
    },
    {
      "cell_type": "code",
      "source": [
        ""
      ],
      "metadata": {
        "id": "66xQemaVzriM"
      },
      "execution_count": 15,
      "outputs": []
    },
    {
      "cell_type": "code",
      "source": [
        ""
      ],
      "metadata": {
        "id": "As8XWI_szrNX"
      },
      "execution_count": 15,
      "outputs": []
    }
  ]
}